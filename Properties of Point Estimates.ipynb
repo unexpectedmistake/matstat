{
 "cells": [
  {
   "cell_type": "markdown",
   "id": "c6d6f37c",
   "metadata": {},
   "source": [
    "## Properties of Point Estimates\n",
    "Мы хотим, чтобы наши оценки обладали следующими свойствами:\n",
    "* __несмещённость__ (unbiased) (при фиксированном размере выборки мы в среднем не ошибаемся) \n",
    "* __состоятельность__ (consistent) (при бесконечном расширении выборки мы приходим к истинному значению)\n",
    "* __эффективность__ (efficient) (у нашей оценки самая маленькая дисперсия для её класса (например, для всех несмещенных оценок))"
   ]
  },
  {
   "cell_type": "code",
   "execution_count": 21,
   "id": "0c1a4f06",
   "metadata": {},
   "outputs": [],
   "source": [
    "import numpy as np\n",
    "import pandas as pd\n",
    "\n",
    "import scipy.stats as sts\n",
    "import matplotlib.pyplot as plt\n",
    "import seaborn as sns\n",
    "\n",
    "plt.style.use('ggplot')  # стиль для графиков\n",
    "%matplotlib inline"
   ]
  },
  {
   "cell_type": "markdown",
   "id": "5643ab84",
   "metadata": {},
   "source": [
    "### Unbiased estimates <br/>\n",
    "__Определение:__  Оценка $\\hat{\\theta}$ параметра $\\theta$ называется __несмещённой,__ если $\\mathbb{E} (\\hat{\\theta}) = \\theta$."
   ]
  },
  {
   "cell_type": "markdown",
   "id": "cc4d4afb",
   "metadata": {},
   "source": [
    "- Bias definition:\n",
    "\\begin{equation}\n",
    "    bias(\\hat{\\theta}) = E(\\hat{\\theta})-\\theta\n",
    "\\end{equation}"
   ]
  },
  {
   "cell_type": "markdown",
   "id": "726b5352",
   "metadata": {},
   "source": [
    "> Несмещённость это свойство оценки при фиксированном размере выборки $n$. Оно означает, что ошибка \"в среднем\", то есть при систематическом использовании оценки, отсутствует. Это довольно хорошее свойство, но не обязательное. Достаточно, чтобы смещение оценки уменьшалось с ростом объёма выборки. Такая оценка называется асимптотически несмещённой. "
   ]
  },
  {
   "cell_type": "markdown",
   "id": "b72dc0f8",
   "metadata": {},
   "source": [
    "### Consistent estimates <br/>\n",
    "__Определение:__  Оценка $\\hat \\theta$ параметра $\\theta$ называется __состоятельной,__ если $\\hat \\theta \\to \\theta$ по вероятности при росте $n$. "
   ]
  },
  {
   "cell_type": "markdown",
   "id": "d9a9fe02",
   "metadata": {},
   "source": [
    "> Нельзя путать состоятельности и несмещённость. Состоятельность означает, что мы при расширении выборки приходим к истине. Несмещённость, что мы при фиксированном размере выборке в среднем не ошибаемся. Состоятельность это то свойство оценки, за которое стоит бороться. Без этого свойства нет никакого смысла использовать оценку. "
   ]
  },
  {
   "cell_type": "markdown",
   "id": "afa4d221",
   "metadata": {},
   "source": [
    "### Efficient estimates <br/>\n",
    "Предположим, что у нас есть две оценки. Они обе классные, несмещённые и состоятельные. Возникает вопрос: а какую взять то? Для того, чтобы выбрать, вводят свойство эффективности. \n",
    "\n",
    "__Определение:__ Оценка $\\hat \\theta$ параметра $\\theta$ называется __эффективной в некотором классе оценок,__ если её дисперсия, $Var(\\hat \\theta)$ в этом классе оценок, при заданном объёме выборке минимальна. \n",
    "\n",
    "Зачем это нужно? Для того, чтобы доверительные интервалы для оценок были как можно уже, то есть для того, чтобы оценка была как можно точнее."
   ]
  },
  {
   "cell_type": "markdown",
   "id": "a0046207",
   "metadata": {},
   "source": [
    "#### Две оценки\n",
    "\n",
    "У нас есть выборка $x_1, \\ldots, x_n \\sim iid \\hspace{2mm} U[0; \\theta]$. Мы оценили параметр $\\theta$ двумя способами. Методом моментов и методом максимального правдоподобия: \n",
    "\n",
    "\n",
    "$$\\hat \\theta_{MM} = 2 \\bar x, \\qquad \\qquad \\hat \\theta_{ML} = \\frac{n+2}{n} \\cdot x_{max}$$\n",
    "\n",
    "Обе оценки оказались несмещёнными и состоятельными. Какую из них выбрать? Ответ прост: надо понять какая из них эффективнее.  \n",
    "\n",
    "Сгенерируйте выборку оценок каждого вида. Постройте по ним гистограммы и найдите этот простой ответ."
   ]
  },
  {
   "cell_type": "code",
   "execution_count": 22,
   "id": "88a68bce",
   "metadata": {},
   "outputs": [],
   "source": [
    "# generate a uniform continuous random variable.\n",
    "uniform_rv = sts.uniform(0, 5) # with loc = 0 and loc+scale = 5, uniform distribution between 0 and 5"
   ]
  },
  {
   "cell_type": "code",
   "execution_count": 23,
   "id": "daad1cf6",
   "metadata": {},
   "outputs": [
    {
     "data": {
      "text/plain": [
       "((100, 1000),\n",
       " array([[4.22545723, 2.13262909, 3.19062105, ..., 4.65616196, 0.78898921,\n",
       "         2.96826631],\n",
       "        [1.11071749, 2.29343564, 2.8252298 , ..., 0.55783422, 1.32632714,\n",
       "         3.78510205],\n",
       "        [2.81257443, 1.1903857 , 4.22770729, ..., 4.10818362, 1.39519035,\n",
       "         0.94400366],\n",
       "        ...,\n",
       "        [3.50467691, 3.94667618, 3.76146764, ..., 4.03518229, 3.37008361,\n",
       "         2.16764397],\n",
       "        [1.94534937, 1.49998592, 2.48125116, ..., 3.95302722, 3.82191347,\n",
       "         0.06734919],\n",
       "        [2.30564835, 4.87971882, 0.35377354, ..., 3.8124999 , 3.77489205,\n",
       "         0.98160966]]))"
      ]
     },
     "execution_count": 23,
     "metadata": {},
     "output_type": "execute_result"
    }
   ],
   "source": [
    "n_obs = 100\n",
    "\n",
    "# generate 1000 samples of n_obs each\n",
    "x = uniform_rv.rvs(size = (n_obs, 1000))\n",
    "x.shape, x"
   ]
  },
  {
   "cell_type": "code",
   "execution_count": 24,
   "id": "9eda5747",
   "metadata": {},
   "outputs": [
    {
     "data": {
      "text/plain": [
       "(4.985004400626905, 5.051475430053096)"
      ]
     },
     "execution_count": 24,
     "metadata": {},
     "output_type": "execute_result"
    }
   ],
   "source": [
    "# первая оценка \n",
    "theta_1 = 2*np.mean(x, axis=0)\n",
    "\n",
    "# вторая оценка \n",
    "theta_2 = (n_obs + 2)/n_obs*np.max(x, axis=0)\n",
    "\n",
    "theta_1.mean(),theta_2.mean()"
   ]
  },
  {
   "cell_type": "code",
   "execution_count": 25,
   "id": "9597b0c2",
   "metadata": {},
   "outputs": [
    {
     "data": {
      "image/png": "[encoded data removed]",
      "text/plain": [
       "<Figure size 864x432 with 1 Axes>"
      ]
     },
     "metadata": {
      "needs_background": "light"
     },
     "output_type": "display_data"
    }
   ],
   "source": [
    "plt.figure(figsize=(12,6))\n",
    "plt.hist(theta_1, bins=100, alpha=0.5, label='Moment method')\n",
    "plt.hist(theta_2, bins=50, alpha=0.5, label='ML method')\n",
    "plt.legend();"
   ]
  },
  {
   "cell_type": "code",
   "execution_count": 6,
   "id": "a7cce55c",
   "metadata": {},
   "outputs": [
    {
     "data": {
      "text/plain": [
       "(0.09056752299440081, 0.0023138019671611236)"
      ]
     },
     "execution_count": 6,
     "metadata": {},
     "output_type": "execute_result"
    }
   ],
   "source": [
    "# Видим, что у оценки максимального правдоподобия разброс оказался меньше.  \n",
    "np.var(theta_1), np.var(theta_2)"
   ]
  },
  {
   "cell_type": "markdown",
   "id": "fda112eb",
   "metadata": {},
   "source": [
    "На практике следовало бы выбрать её. Когда у оценки самый маленький разброс в каком-то классе (например, в классе несмещённых оценок), её называют __эффективной__ в этом классе. \n",
    "\n",
    "Кстати говоря, для оценок из этого упражнения, можно руками выяснить, что: \n",
    "\n",
    "$$ E(\\hat \\theta_{MM} - \\theta)^2 = \\frac{\\theta^2}{3n} \\qquad \\qquad E(\\hat \\theta_{ML} - \\theta)^2 = \\frac{2 \\theta^2}{n(n+1)}.$$\n",
    "\n",
    "Получится, что при $n = 1,2$ дисперсии совпадут. При $n >2$ оценка максимального правдоподобия будет обладать меньшей дисперсией. Вывод этих формул руками можно посмотреть в [книге Черновой](https://nsu.ru/mmf/tvims/chernova/ms/ms_nsu07.pdf) на странице 33 (Пример 13)."
   ]
  },
  {
   "cell_type": "markdown",
   "id": "a3931359",
   "metadata": {},
   "source": [
    "### Matstat scheme"
   ]
  },
  {
   "cell_type": "code",
   "execution_count": 30,
   "id": "efc76ae1",
   "metadata": {},
   "outputs": [
    {
     "data": {
      "text/plain": [
       "(2.532719559572792, 7.467280440427208, 4.934560880854416)"
      ]
     },
     "execution_count": 30,
     "metadata": {},
     "output_type": "execute_result"
    }
   ],
   "source": [
    "# confidence interval\n",
    "norm_rv = sts.norm(loc = 0, scale = 1)  # norm distribution generator\n",
    "\n",
    "alpha = 0.1\n",
    "mu = 5\n",
    "se = 1.5\n",
    "\n",
    "left = mu - norm_rv.ppf(1 - alpha/2)*se\n",
    "right = mu + norm_rv.ppf(1 - alpha/2)*se\n",
    "\n",
    "delta = right - left\n",
    "\n",
    "left, right, delta"
   ]
  },
  {
   "cell_type": "code",
   "execution_count": 34,
   "id": "7f292c3f",
   "metadata": {},
   "outputs": [
    {
     "data": {
      "text/plain": [
       "0.03368973499542734"
      ]
     },
     "execution_count": 34,
     "metadata": {},
     "output_type": "execute_result"
    }
   ],
   "source": [
    "# probability for Poisson distribution\n",
    "\n",
    "# вероятность того, что Пуассоновская случайная величина примет какое-то значение, mu - оценка lambda для Poisson distribution\n",
    "def poiss_prob(mu, k):\n",
    "    return np.power(mu, k) / np.math.factorial(k) * np.exp(-mu) \n",
    "\n",
    "\n",
    "poiss_prob(5, 1) # point estimate of probability that event would occur 1 time"
   ]
  },
  {
   "cell_type": "code",
   "execution_count": null,
   "id": "4c5ad8f7",
   "metadata": {},
   "outputs": [],
   "source": [
    "# delta-method\n",
    "\n",
    "\n"
   ]
  },
  {
   "cell_type": "code",
   "execution_count": null,
   "id": "a3c23ff8",
   "metadata": {},
   "outputs": [],
   "source": []
  },
  {
   "cell_type": "code",
   "execution_count": null,
   "id": "51318922",
   "metadata": {},
   "outputs": [],
   "source": []
  }
 ],
 "metadata": {
  "kernelspec": {
   "display_name": "Python 3 (ipykernel)",
   "language": "python",
   "name": "python3"
  },
  "language_info": {
   "codemirror_mode": {
    "name": "ipython",
    "version": 3
   },
   "file_extension": ".py",
   "mimetype": "text/x-python",
   "name": "python",
   "nbconvert_exporter": "python",
   "pygments_lexer": "ipython3",
   "version": "3.9.7"
  }
 },
 "nbformat": 4,
 "nbformat_minor": 5
}
