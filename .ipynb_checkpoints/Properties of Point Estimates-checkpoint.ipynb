{
 "cells": [
  {
   "cell_type": "markdown",
   "id": "c6d6f37c",
   "metadata": {},
   "source": [
    "## Properties of Point Estimates\n",
    "Мы хотим, чтобы наши оценки обладали следующими свойствами:\n",
    "* __несмещённость__ (unbiased) (при фиксированном размере выборки мы в среднем не ошибаемся) \n",
    "* __состоятельность__ (consistent) (при бесконечном расширении выборки мы приходим к истинному значению)\n",
    "* __эффективность__ (efficient) (у нашей оценки самая маленькая дисперсия для её класса (например, для всех несмещенных оценок))"
   ]
  },
  {
   "cell_type": "code",
   "execution_count": 2,
   "id": "0c1a4f06",
   "metadata": {},
   "outputs": [],
   "source": [
    "import numpy as np\n",
    "import pandas as pd\n",
    "\n",
    "import scipy.stats as sts\n",
    "import matplotlib.pyplot as plt\n",
    "import seaborn as sns\n",
    "\n",
    "plt.style.use('ggplot')  # стиль для графиков\n",
    "%matplotlib inline"
   ]
  },
  {
   "cell_type": "markdown",
   "id": "5643ab84",
   "metadata": {},
   "source": [
    "### Unbiased estimates <br/>\n",
    "__Определение:__  Оценка $\\hat{\\theta}$ параметра $\\theta$ называется __несмещённой,__ если $\\mathbb{E} (\\hat{\\theta}) = \\theta$."
   ]
  },
  {
   "cell_type": "markdown",
   "id": "cc4d4afb",
   "metadata": {},
   "source": [
    "- Bias definition:\n",
    "\\begin{equation}\n",
    "    bias(\\hat{\\theta}) = E(\\hat{\\theta})-\\theta\n",
    "\\end{equation}"
   ]
  },
  {
   "cell_type": "markdown",
   "id": "726b5352",
   "metadata": {},
   "source": [
    "> Несмещённость это свойство оценки при фиксированном размере выборки $n$. Оно означает, что ошибка \"в среднем\", то есть при систематическом использовании оценки, отсутствует. Это довольно хорошее свойство, но не обязательное. Достаточно, чтобы смещение оценки уменьшалось с ростом объёма выборки. Такая оценка называется асимптотически несмещённой. "
   ]
  },
  {
   "cell_type": "markdown",
   "id": "b72dc0f8",
   "metadata": {},
   "source": [
    "### Consistent estimates <br/>\n",
    "__Определение:__  Оценка $\\hat \\theta$ параметра $\\theta$ называется __состоятельной,__ если $\\hat \\theta \\to \\theta$ по вероятности при росте $n$. "
   ]
  },
  {
   "cell_type": "markdown",
   "id": "d9a9fe02",
   "metadata": {},
   "source": [
    "> Нельзя путать состоятельности и несмещённость. Состоятельность означает, что мы при расширении выборки приходим к истине. Несмещённость, что мы при фиксированном размере выборке в среднем не ошибаемся. Состоятельность это то свойство оценки, за которое стоит бороться. Без этого свойства нет никакого смысла использовать оценку. "
   ]
  },
  {
   "cell_type": "markdown",
   "id": "afa4d221",
   "metadata": {},
   "source": [
    "### Efficient estimates <br/>\n",
    "Предположим, что у нас есть две оценки. Они обе классные, несмещённые и состоятельные. Возникает вопрос: а какую взять то? Для того, чтобы выбрать, вводят свойство эффективности. \n",
    "\n",
    "__Определение:__ Оценка $\\hat \\theta$ параметра $\\theta$ называется __эффективной в некотором классе оценок,__ если её дисперсия, $Var(\\hat \\theta)$ в этом классе оценок, при заданном объёме выборке минимальна. \n",
    "\n",
    "Зачем это нужно? Для того, чтобы доверительные интервалы для оценок были как можно уже, то есть для того, чтобы оценка была как можно точнее."
   ]
  },
  {
   "cell_type": "markdown",
   "id": "a0046207",
   "metadata": {},
   "source": [
    "#### Две оценки\n",
    "\n",
    "У нас есть выборка $x_1, \\ldots, x_n \\sim iid \\hspace{2mm} U[0; \\theta]$. Мы оценили параметр $\\theta$ двумя способами. Методом моментов и методом максимального правдоподобия: \n",
    "\n",
    "\n",
    "$$\\hat \\theta_{MM} = 2 \\bar x, \\qquad \\qquad \\hat \\theta_{ML} = \\frac{n+2}{n} \\cdot x_{max}$$\n",
    "\n",
    "Обе оценки оказались несмещёнными и состоятельными. Какую из них выбрать? Ответ прост: надо понять какая из них эффективнее.  \n",
    "\n",
    "Сгенерируйте выборку оценок каждого вида. Постройте по ним гистограммы и найдите этот простой ответ."
   ]
  },
  {
   "cell_type": "code",
   "execution_count": 3,
   "id": "88a68bce",
   "metadata": {},
   "outputs": [],
   "source": [
    "# generate a uniform continuous random variable.\n",
    "uniform_rv = sts.uniform(0, 5) # with loc = 0 and loc+scale = 5, uniform distribution between 0 and 5"
   ]
  },
  {
   "cell_type": "code",
   "execution_count": 4,
   "id": "daad1cf6",
   "metadata": {},
   "outputs": [
    {
     "data": {
      "text/plain": [
       "((100, 1000),\n",
       " array([[1.62624573, 1.10241803, 2.9871553 , ..., 1.95171862, 3.22466535,\n",
       "         3.5162022 ],\n",
       "        [1.7626188 , 4.3725363 , 3.8420239 , ..., 2.7037898 , 0.40138099,\n",
       "         4.01869176],\n",
       "        [0.91402182, 2.35233141, 0.66914155, ..., 4.37327471, 2.69839764,\n",
       "         4.85442203],\n",
       "        ...,\n",
       "        [4.43895479, 3.33253417, 2.27395936, ..., 2.26758787, 3.98696926,\n",
       "         0.26384611],\n",
       "        [0.01755035, 4.91682069, 2.53718124, ..., 1.11487371, 4.94458814,\n",
       "         3.49737985],\n",
       "        [3.49506211, 3.38218983, 4.49711347, ..., 0.37867965, 3.35420544,\n",
       "         0.16027256]]))"
      ]
     },
     "execution_count": 4,
     "metadata": {},
     "output_type": "execute_result"
    }
   ],
   "source": [
    "n_obs = 100\n",
    "\n",
    "# generate 1000 samples of n_obs each\n",
    "x = uniform_rv.rvs(size = (n_obs, 1000))\n",
    "x.shape, x"
   ]
  },
  {
   "cell_type": "code",
   "execution_count": 5,
   "id": "9eda5747",
   "metadata": {},
   "outputs": [
    {
     "data": {
      "text/plain": [
       "(4.9956460971208525, 5.047697619303306)"
      ]
     },
     "execution_count": 5,
     "metadata": {},
     "output_type": "execute_result"
    }
   ],
   "source": [
    "# первая оценка \n",
    "theta_1 = 2*np.mean(x, axis=0)\n",
    "\n",
    "# вторая оценка \n",
    "theta_2 = (n_obs + 2)/n_obs*np.max(x, axis=0)\n",
    "\n",
    "theta_1.mean(),theta_2.mean()"
   ]
  },
  {
   "cell_type": "code",
   "execution_count": 6,
   "id": "9597b0c2",
   "metadata": {},
   "outputs": [
    {
     "data": {
      "image/png": "[encoded data removed]",
      "text/plain": [
       "<Figure size 864x432 with 1 Axes>"
      ]
     },
     "metadata": {
      "needs_background": "light"
     },
     "output_type": "display_data"
    }
   ],
   "source": [
    "plt.figure(figsize=(12,6))\n",
    "plt.hist(theta_1, bins=100, alpha=0.5, label='Moment method')\n",
    "plt.hist(theta_2, bins=50, alpha=0.5, label='ML method')\n",
    "plt.legend();"
   ]
  },
  {
   "cell_type": "code",
   "execution_count": 7,
   "id": "a7cce55c",
   "metadata": {},
   "outputs": [
    {
     "data": {
      "text/plain": [
       "(0.08458585642843422, 0.0025040212646750327)"
      ]
     },
     "execution_count": 7,
     "metadata": {},
     "output_type": "execute_result"
    }
   ],
   "source": [
    "# Видим, что у оценки максимального правдоподобия разброс оказался меньше.  \n",
    "np.var(theta_1), np.var(theta_2)"
   ]
  },
  {
   "cell_type": "markdown",
   "id": "fda112eb",
   "metadata": {},
   "source": [
    "На практике следовало бы выбрать её. Когда у оценки самый маленький разброс в каком-то классе (например, в классе несмещённых оценок), её называют __эффективной__ в этом классе. \n",
    "\n",
    "Кстати говоря, для оценок из этого упражнения, можно руками выяснить, что: \n",
    "\n",
    "$$ E(\\hat \\theta_{MM} - \\theta)^2 = \\frac{\\theta^2}{3n} \\qquad \\qquad E(\\hat \\theta_{ML} - \\theta)^2 = \\frac{2 \\theta^2}{n(n+1)}.$$\n",
    "\n",
    "Получится, что при $n = 1,2$ дисперсии совпадут. При $n >2$ оценка максимального правдоподобия будет обладать меньшей дисперсией. Вывод этих формул руками можно посмотреть в [книге Черновой](https://nsu.ru/mmf/tvims/chernova/ms/ms_nsu07.pdf) на странице 33 (Пример 13)."
   ]
  },
  {
   "cell_type": "markdown",
   "id": "a3931359",
   "metadata": {},
   "source": [
    "### Matstat scheme"
   ]
  },
  {
   "cell_type": "code",
   "execution_count": 8,
   "id": "efc76ae1",
   "metadata": {},
   "outputs": [
    {
     "data": {
      "text/plain": [
       "(2.532719559572792, 7.467280440427208, 4.934560880854416)"
      ]
     },
     "execution_count": 8,
     "metadata": {},
     "output_type": "execute_result"
    }
   ],
   "source": [
    "# confidence interval\n",
    "norm_rv = sts.norm(loc = 0, scale = 1)  # norm distribution generator\n",
    "\n",
    "alpha = 0.1\n",
    "mu = 5\n",
    "se = 1.5\n",
    "\n",
    "left = mu - norm_rv.ppf(1 - alpha/2)*se\n",
    "right = mu + norm_rv.ppf(1 - alpha/2)*se\n",
    "\n",
    "delta = right - left\n",
    "\n",
    "left, right, delta"
   ]
  },
  {
   "cell_type": "code",
   "execution_count": 9,
   "id": "7f292c3f",
   "metadata": {},
   "outputs": [
    {
     "data": {
      "text/plain": [
       "0.03368973499542734"
      ]
     },
     "execution_count": 9,
     "metadata": {},
     "output_type": "execute_result"
    }
   ],
   "source": [
    "# probability for Poisson distribution\n",
    "\n",
    "# вероятность того, что Пуассоновская случайная величина примет какое-то значение, mu - оценка lambda для Poisson distribution\n",
    "def poiss_prob(mu, k):\n",
    "    return np.power(mu, k) / np.math.factorial(k) * np.exp(-mu) \n",
    "\n",
    "\n",
    "poiss_prob(5, 1) # point estimate of probability that event would occur 1 time"
   ]
  },
  {
   "cell_type": "markdown",
   "id": "0f05add1",
   "metadata": {},
   "source": [
    "### Delta-method\n",
    "source: https://github.com/bdemeshev/pr201/tree/master/delta_method"
   ]
  },
  {
   "cell_type": "markdown",
   "id": "8decb1cf",
   "metadata": {},
   "source": [
    "Дельта-метод основан на том факте, что даже нелинейная функция от нормально распределенной случайной величины иногда имеет распределение близкое к нормальному."
   ]
  },
  {
   "cell_type": "markdown",
   "id": "294e0b57",
   "metadata": {},
   "source": [
    "Если функция $g(t)$ дифференцируема, то в окрестности точки $ \\mu$ функция $g(t)$ похожа на прямую, то есть: <br/>\n",
    "$$ g(t)\\approx g(\\mu) + g'(\\mu)*(t-\\mu) $$"
   ]
  },
  {
   "cell_type": "markdown",
   "id": "98cd8406",
   "metadata": {},
   "source": [
    "Линейное преобразование нормально распределенной случайной величины оставляет её нор- мально распределенной, если угловой коэффициент отличен от нуля, т.е. <br/>\n",
    "$$ g'(\\mu) \\neq 0 $$"
   ]
  },
  {
   "cell_type": "markdown",
   "id": "08bbb414",
   "metadata": {},
   "source": [
    "Если $X \\sim N(\\mu, \\sigma^2) $ и дисперсия X мала, то X практически всегда попадает в небольшую окрестность $ \\mu$, а в ней $f$ похожа на линейную функцию и <br/>\n",
    "$$ g(X) \\approx N(\\mu, \\sigma^2(g'(\\mu))^2)$$"
   ]
  },
  {
   "cell_type": "markdown",
   "id": "edbe01f7",
   "metadata": {},
   "source": [
    "Практическая версия дельта-метода: <br/>\n",
    "* $g(t)$ - дифференциируема\n",
    "* $g'(\\mu) \\neq 0 $ \n",
    "* $X \\sim N(\\mu, \\sigma^2)$\n",
    "* дисперсия $\\sigma^2$ мала <br/>\n",
    "$$ g(X) \\approx N(g(\\mu), \\sigma^2(g'(\\mu))^2)$$"
   ]
  },
  {
   "cell_type": "markdown",
   "id": "9e7db3f7",
   "metadata": {},
   "source": [
    "ЗБЧ позволяет использовать средние в качестве оценок для различных параметров. ЦПТ под- сказывает как среднее будет распределено. Однако на практике часто встречаются ситуации, ко- гда оценка параметра — это функция от среднего. *Дельта-метод* — позволяет в такой ситуации понять как будет распределена оценка. Полученное распределение можно использовать для стро- ительства доверительного интервала."
   ]
  },
  {
   "cell_type": "code",
   "execution_count": 10,
   "id": "4c5ad8f7",
   "metadata": {},
   "outputs": [
    {
     "data": {
      "text/plain": [
       "(-0.003662851061764602, 0.07104232105261928, 0.07470517211438388)"
      ]
     },
     "execution_count": 10,
     "metadata": {},
     "output_type": "execute_result"
    }
   ],
   "source": [
    "\n",
    "# using delta-method for confidence interval for poisson point estimate\n",
    "\n",
    "alpha = 0.05\n",
    "k = 1\n",
    "\n",
    "mu = 5\n",
    "k = 1\n",
    "n = 10\n",
    "\n",
    "# exmaple with exponential distribution\n",
    "def g(mu, k):\n",
    "    return np.power(mu, k) / np.math.factorial(k) * np.exp(-mu) \n",
    "\n",
    "def g_diff(mu, k):\n",
    "    e_1 = np.exp(-mu)\n",
    "    return e_1 * np.power(mu,(k-1)) * (k - mu)/np.math.factorial(k)\n",
    "\n",
    "\n",
    "left = g(mu, k) - sts.norm.ppf(1 - alpha / 2) * np.sqrt(mu / n * np.power(g_diff(mu, k),2))\n",
    "right = g(mu, k) + sts.norm.ppf(1 - alpha / 2) * np.sqrt(mu / n * np.power(g_diff(mu, k),2))\n",
    "delta = right - left\n",
    "\n",
    "left, right, delta"
   ]
  },
  {
   "cell_type": "code",
   "execution_count": null,
   "id": "a3c23ff8",
   "metadata": {},
   "outputs": [],
   "source": []
  },
  {
   "cell_type": "code",
   "execution_count": null,
   "id": "51318922",
   "metadata": {},
   "outputs": [],
   "source": []
  }
 ],
 "metadata": {
  "kernelspec": {
   "display_name": "Python 3 (ipykernel)",
   "language": "python",
   "name": "python3"
  },
  "language_info": {
   "codemirror_mode": {
    "name": "ipython",
    "version": 3
   },
   "file_extension": ".py",
   "mimetype": "text/x-python",
   "name": "python",
   "nbconvert_exporter": "python",
   "pygments_lexer": "ipython3",
   "version": "3.9.7"
  }
 },
 "nbformat": 4,
 "nbformat_minor": 5
}
