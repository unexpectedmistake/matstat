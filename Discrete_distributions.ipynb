{
 "cells": [
  {
   "cell_type": "code",
   "execution_count": 1,
   "metadata": {},
   "outputs": [],
   "source": [
    "import numpy as np\n",
    "from scipy import stats\n",
    "import scipy\n",
    "import warnings\n",
    "warnings.simplefilter('ignore', DeprecationWarning)"
   ]
  },
  {
   "cell_type": "markdown",
   "metadata": {},
   "source": [
    "# Discrete Probability Distributions"
   ]
  },
  {
   "cell_type": "markdown",
   "metadata": {},
   "source": [
    "## The Binomial Distribution"
   ]
  },
  {
   "cell_type": "markdown",
   "metadata": {},
   "source": [
    "### Bernoulli Random Variables"
   ]
  },
  {
   "cell_type": "markdown",
   "metadata": {},
   "source": [
    "- Modeling of a process with two possible outcomes, labeled 0 and 1\n",
    "- Random variable defined by the parameter $p$, $0 \\leq p \\leq 1$, which is the probability that the outcome is 1\n",
    "- The Bernoulli distribution $Ber(p)$ is:\n",
    "\\begin{equation}\n",
    "    f(x;p) = p^x(1-p)^{1-x}, \\text{   } x= 0,1\n",
    "\\end{equation}\n",
    "- $E(X) = p$\n",
    "- $Var(X) = p(1-p)$"
   ]
  },
  {
   "cell_type": "code",
   "execution_count": 4,
   "metadata": {},
   "outputs": [
    {
     "name": "stdout",
     "output_type": "stream",
     "text": [
      "Mean:  0.3\n",
      "Variance:  0.21\n"
     ]
    }
   ],
   "source": [
    "from scipy.stats import bernoulli\n",
    "p = 0.3 # probability of success\n",
    "print(\"Mean: \", bernoulli.mean(p))\n",
    "print(\"Variance: \", bernoulli.var(p))"
   ]
  },
  {
   "cell_type": "markdown",
   "metadata": {},
   "source": [
    "### Definition of the Binomial Distribution"
   ]
  },
  {
   "cell_type": "markdown",
   "metadata": {},
   "source": [
    "- Let's consider and experiment consisting of $n$ Bernoulli trials $X_1, \\cdots, X_n$ independent and with a constant probability $p$ of success\n",
    "- Then the total number of successes $X = \\sum_{i=1}^m X_i$ is a random variable whose Binomial distribution with parameters $n$ (number of trials) and $p$ is:\n",
    "\\begin{equation}\n",
    "    X \\sim B(n,p)\n",
    "\\end{equation}"
   ]
  },
  {
   "cell_type": "markdown",
   "metadata": {},
   "source": [
    "- Probability mass function of a $B(n, p)$ random variable is:\n",
    "\\begin{equation}\n",
    "    f(x;n,p) = \\binom{n}{x}p^x(1-p)^{n-x}, \\text{   } x= 0,1, \\cdots, n\n",
    "\\end{equation}\n",
    "- $E(X) = np$\n",
    "- $Var(X) = np(1-p)$"
   ]
  },
  {
   "cell_type": "code",
   "execution_count": 5,
   "metadata": {},
   "outputs": [
    {
     "name": "stdout",
     "output_type": "stream",
     "text": [
      "Mean:  2.0\n",
      "Variance:  1.6\n",
      "Probability mass function:  0.000786432\n",
      "Cumulative distribution function:  0.9999220736\n"
     ]
    }
   ],
   "source": [
    "from scipy.stats import binom\n",
    "\n",
    "# Parameters\n",
    "n = 10 # number of trials\n",
    "x = 7 # number of successes\n",
    "p = 0.2 # probability of success\n",
    "\n",
    "print(\"Mean: \", binom.mean(n, p))\n",
    "print(\"Variance: \", binom.var(n, p))\n",
    "print(\"Probability mass function: \", binom.pmf(x, n, p))\n",
    "print(\"Cumulative distribution function: \", binom.cdf(x,n,p))"
   ]
  },
  {
   "cell_type": "markdown",
   "metadata": {},
   "source": [
    "### Proportion of successes in Bernoulli Trials"
   ]
  },
  {
   "cell_type": "markdown",
   "metadata": {},
   "source": [
    "- Let $X \\sim B(n,p)$. Then, if $Y = \\frac{X}{n}$\n",
    "- $E(Y) = p$\n",
    "- $Var(Y) = \\frac{p(1-p)}{n}$"
   ]
  },
  {
   "cell_type": "markdown",
   "metadata": {},
   "source": [
    "## The Geometric Distributions"
   ]
  },
  {
   "cell_type": "markdown",
   "metadata": {},
   "source": [
    "### Definition of the Geometric Distribution"
   ]
  },
  {
   "cell_type": "markdown",
   "metadata": {},
   "source": [
    "- Number of $X$ of trials up to and including the first success in a sequence of independent Bernoulli trials with a constant success probability $p$ has a geometric distribution with parameter $p$\n",
    "- Probability mass function:\n",
    "\\begin{equation}\n",
    "    P(X = x) = (1 - p)^{x-1}p, \\text{   } x=1,2, \\cdots.\n",
    "\\end{equation}\n",
    "- Cumulative distribution function:\n",
    "\\begin{equation}\n",
    "    P(X \\leq x) = 1 - (1-p)^x\n",
    "\\end{equation}\n",
    "- $E(X) = \\frac{1}{p}$\n",
    "- $Var(X) = \\frac{1-p}{p^2}$"
   ]
  },
  {
   "cell_type": "code",
   "execution_count": 26,
   "metadata": {},
   "outputs": [
    {
     "name": "stdout",
     "output_type": "stream",
     "text": [
      "Mean:  4.3478260869565215\n",
      "Variance:  14.555765595463136\n",
      "Probability mass function:  0.08085199430000001\n",
      "Cumulative distribution function:  0.7293215843\n"
     ]
    }
   ],
   "source": [
    "from scipy.stats import geom\n",
    "x = 5 # number of trials up to and including the first success\n",
    "p = 0.23 # probability of success\n",
    "print(\"Mean: \", geom.mean(p))\n",
    "print(\"Variance: \", geom.var(p))\n",
    "print(\"Probability mass function: \", geom.pmf(x, p))\n",
    "print(\"Cumulative distribution function: \", geom.cdf(x, p))"
   ]
  },
  {
   "cell_type": "markdown",
   "metadata": {},
   "source": [
    "## The Poisson Distribution"
   ]
  },
  {
   "cell_type": "markdown",
   "metadata": {},
   "source": [
    "### Definition of the Poisson Distribution"
   ]
  },
  {
   "cell_type": "markdown",
   "metadata": {},
   "source": [
    "- Describes the number of \"events\" occurring within certain specified boundaries of space and time\n",
    "- A random variable $X$ distributed as a Poisson random variable with parameter $\\lambda$ is written as:\n",
    "\\begin{equation}\n",
    "    X \\sim P(\\lambda)\n",
    "\\end{equation}\n",
    "- Probability mass function:\n",
    "\\begin{equation}\n",
    "    P(X = x) = \\frac{ e^{- \\lambda} \\lambda ^ {x}} {x!} \\text{   } x=0,1,2, \\cdots.\n",
    "\\end{equation}\n",
    "- $Eprint(\"Mean: \", multinomial.mean(x, p))(X) = Var(X) = \\lambda$"
   ]
  },
  {
   "cell_type": "code",
   "execution_count": 51,
   "metadata": {},
   "outputs": [
    {
     "name": "stdout",
     "output_type": "stream",
     "text": [
      "Mean:  0.6666666666666666\n",
      "Variance:  0.6666666666666666\n",
      "Probability mass function:  0.3422780793550613\n",
      "Cumulative distribution function:  0.8556951983876534\n"
     ]
    }
   ],
   "source": [
    "from scipy.stats import poisson\n",
    "\n",
    "# Parameters\n",
    "x = 1 # number of events\n",
    "Lambda = 2/3 # lambda parameter\n",
    "\n",
    "print(\"Mean: \", poisson.mean(Lambda))\n",
    "print(\"Variance: \", poisson.var(Lambda))\n",
    "print(\"Probability mass function: \", poisson.pmf(x, Lambda))\n",
    "print(\"Cumulative distribution function: \", poisson.cdf(x, Lambda))"
   ]
  },
  {
   "cell_type": "code",
   "execution_count": null,
   "metadata": {},
   "outputs": [],
   "source": []
  }
 ],
 "metadata": {
  "kernelspec": {
   "display_name": "Python 3 (ipykernel)",
   "language": "python",
   "name": "python3"
  },
  "language_info": {
   "codemirror_mode": {
    "name": "ipython",
    "version": 3
   },
   "file_extension": ".py",
   "mimetype": "text/x-python",
   "name": "python",
   "nbconvert_exporter": "python",
   "pygments_lexer": "ipython3",
   "version": "3.9.7"
  }
 },
 "nbformat": 4,
 "nbformat_minor": 4
}
